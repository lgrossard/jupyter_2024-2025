{
 "cells": [
  {
   "cell_type": "markdown",
   "id": "mexican-chest",
   "metadata": {},
   "source": [
    "#  Affectation de variables\n",
    "\n",
    "Quelles sont les valeurs des différentes variables à la fin des codes suivants.\n"
   ]
  },
  {
   "cell_type": "markdown",
   "id": "social-credits",
   "metadata": {},
   "source": [
    "## Code 1\n",
    "\n",
    "```python\n",
    "# variables\n",
    "# a, b, c, d : entiers\n",
    "a = 1\n",
    "b = 3\n",
    "c = b - 2*a\n",
    "d = c + a\n",
    "a = d - b\n",
    "c = c + 2\n",
    "b = b - a\n",
    "a = b\n",
    "```"
   ]
  },
  {
   "cell_type": "markdown",
   "id": "instrumental-partnership",
   "metadata": {},
   "source": [
    "*Évolution des valeurs des différentes variables :*"
   ]
  },
  {
   "cell_type": "markdown",
   "id": "chemical-privilege",
   "metadata": {},
   "source": [
    "| ligne | a   | b   | c   | d   |\n",
    "| ------| --- | --- | --- | --- |\n",
    "|   1   |     |     |     |     |\n",
    "|   2   |     |     |     |     |\n",
    "|   3   |     |     |     |     |\n",
    "|   4   |     |     |     |     |\n",
    "|   5   |     |     |     |     |\n",
    "|   6   |     |     |     |     |\n",
    "|   7   |     |     |     |     |\n",
    "|   8   |     |     |     |     |"
   ]
  },
  {
   "cell_type": "markdown",
   "id": "embedded-harbor",
   "metadata": {},
   "source": [
    "## Code 2"
   ]
  },
  {
   "cell_type": "markdown",
   "id": "animated-commons",
   "metadata": {},
   "source": [
    "```python\n",
    "# variables\n",
    "# a, b, c, d, nombres entiers\n",
    "a = 1\n",
    "b = 3\n",
    "c = a + b\n",
    "a = c + b\n",
    "b = d - c\n",
    "b = b - a\n",
    "```"
   ]
  },
  {
   "cell_type": "markdown",
   "id": "changed-insulation",
   "metadata": {},
   "source": [
    "*Évolution des valeurs des différentes variables :*"
   ]
  },
  {
   "cell_type": "markdown",
   "id": "clinical-slide",
   "metadata": {},
   "source": [
    "| ligne | a   | b   | c   | d   |\n",
    "| ------| --- | --- | --- | --- |\n",
    "|   1   |     |     |     |     |\n",
    "|   2   |     |     |     |     |\n",
    "|   3   |     |     |     |     |\n",
    "|   4   |     |     |     |     |\n",
    "|   5   |     |     |     |     |\n",
    "|   6   |     |     |     |     |\n"
   ]
  },
  {
   "cell_type": "code",
   "execution_count": null,
   "id": "expressed-essay",
   "metadata": {},
   "outputs": [],
   "source": []
  }
 ],
 "metadata": {
  "kernelspec": {
   "display_name": "Python 3 (ipykernel)",
   "language": "python",
   "name": "python3"
  },
  "language_info": {
   "codemirror_mode": {
    "name": "ipython",
    "version": 3
   },
   "file_extension": ".py",
   "mimetype": "text/x-python",
   "name": "python",
   "nbconvert_exporter": "python",
   "pygments_lexer": "ipython3",
   "version": "3.10.12"
  }
 },
 "nbformat": 4,
 "nbformat_minor": 5
}
