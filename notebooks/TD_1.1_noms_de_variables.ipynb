{
 "cells": [
  {
   "cell_type": "markdown",
   "id": "adjusted-helena",
   "metadata": {},
   "source": [
    "# Ex 1.1 : noms de variables\n",
    "\n",
    "\n",
    "Pour chaque variable dont on vous donne la description, choisissez le nom en anglais et en snake_case\n",
    "qui vous semble le mieux adapté.\n",
    "\n",
    "\n",
    "| Description de la variable             | Type       | Nom proposé             |\n",
    "|---                                     |---         | ---                     |\n",
    "|une somme de tensions                   | variable   |                         |\n",
    "|la période d’une fonction               | variable   |                         |\n",
    "|la célérité de la lumière               | constante  |                         |\n",
    "|la gravité lunaire                      | constante  |                         |\n",
    "|un compteur                             | variable   |                         |\n",
    "|une longueur d'onde                     | variable   |                         |\n",
    "|la valeur moyenne d’une série de données| variable   |                         |\n",
    "|une impression en cours                 | booléen    |                         |\n"
   ]
  },
  {
   "cell_type": "code",
   "execution_count": null,
   "id": "theoretical-oakland",
   "metadata": {},
   "outputs": [],
   "source": []
  }
 ],
 "metadata": {
  "kernelspec": {
   "display_name": "Python 3 (ipykernel)",
   "language": "python",
   "name": "python3"
  },
  "language_info": {
   "codemirror_mode": {
    "name": "ipython",
    "version": 3
   },
   "file_extension": ".py",
   "mimetype": "text/x-python",
   "name": "python",
   "nbconvert_exporter": "python",
   "pygments_lexer": "ipython3",
   "version": "3.10.12"
  }
 },
 "nbformat": 4,
 "nbformat_minor": 5
}
