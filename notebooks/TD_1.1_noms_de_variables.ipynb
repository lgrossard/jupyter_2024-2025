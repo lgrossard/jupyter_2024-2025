{
 "cells": [
  {
   "cell_type": "markdown",
   "id": "adjusted-helena",
   "metadata": {},
   "source": [
    "# Ex 1.1 : noms de variables\n",
    "\n",
    "\n",
    "Pour chaque variable dont on vous donne la description, choisissez le nom en anglais et en snake_case\n",
    "qui vous semble le mieux adapté.\n",
    "\n",
    "\n",
    "| Description de la variable             | Type       | Nom proposé                        |\n",
    "|---                                     |---         | ---                                |\n",
    "|une somme de tensions                   | variable   | voltage_sum                        |\n",
    "|la période d’une fonction               | variable   | function_period, T                 |\n",
    "|la célérité de la lumière               | constante  | c, SPEED_OF_LIGHT_IN_VACUM         |\n",
    "|la gravité lunaire                      | constante  | GRAVITY, MOON_GRAVITY              |\n",
    "|un compteur                             | variable   | i                                  |\n",
    "|une longueur d'onde                     | variable   | wavelength (**mais pas lambda** !) |\n",
    "|la valeur moyenne d’une série de données| variable   | mean_value, average                |\n",
    "|une impression en cours                 | booléen    | is_printing, printing              |\n"
   ]
  },
  {
   "cell_type": "code",
   "execution_count": null,
   "id": "theoretical-oakland",
   "metadata": {},
   "outputs": [],
   "source": []
  }
 ],
 "metadata": {
  "kernelspec": {
   "display_name": "Python 3 (ipykernel)",
   "language": "python",
   "name": "python3"
  },
  "language_info": {
   "codemirror_mode": {
    "name": "ipython",
    "version": 3
   },
   "file_extension": ".py",
   "mimetype": "text/x-python",
   "name": "python",
   "nbconvert_exporter": "python",
   "pygments_lexer": "ipython3",
   "version": "3.10.12"
  }
 },
 "nbformat": 4,
 "nbformat_minor": 5
}
