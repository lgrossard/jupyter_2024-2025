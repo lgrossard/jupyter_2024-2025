{
 "cells": [
  {
   "cell_type": "markdown",
   "metadata": {},
   "source": [
    "# Présentation de Jupyter\n",
    "\n",
    "[Jupyter](https://jupyter.org/) est un logiciel fonctionnant en ligne, et permettant de mélanger du code, des commentaires et des visualisations dans un document interactif appelé notebook (cahier en français). Ce notebook peut être partagé avec d'autres personnes, réutilisé et retravaillé. Et comme Jupyter s’exécute dans un navigateur web, le notebook lui-même peut être hébergé au choix sur l’ordinateur du développeur ou sur un serveur distant.\n",
    "\n",
    "Un notebook Jupyter peut donc contenir :\n",
    "\n",
    "- **du texte et du code HTML** (le langage des pages web). Le texte utilise la syntaxe [Markdown](https://github.com/adam-p/markdown-here/wiki/Markdown-Cheatsheet), et peut être inséré à n’importe quel endroit dans le document.\n",
    "\n",
    "- **du code Python** et le rendu. Les résultats du code exécuté apparaissent immédiatement après les blocs de code et ces derniers peuvent être modifiés, exécutés et rééxécutés dans l’ordre que l’on choisira, aussi souvent qu’on le voudra.\n",
    "\n",
    "- **Les visualisations :** les graphiques peuvent être générés à partir du code en utilisant des modules comme Matplotlib. Comme les autres rendus, ces visualisations apparaissent en ligne sous le code à partir duquel elles ont été générées. Toutefois, le code peut aussi être configuré pour les écrire dans le fichier externe si nécessaire.\n",
    "\n",
    "- **Le multimedia :** Jupyter s’appuyant sur des technologies web, il peut intégrer tous les types de multimédias que l'on trouve dans une page web\n",
    "\n",
    "- **Les données** peuvent être fournies dans un fichier séparé à côté du fichier.ipynb qui contient le notebook Jupyter."
   ]
  },
  {
   "cell_type": "markdown",
   "metadata": {},
   "source": [
    "## Modifier une cellule de texte\n",
    "\n",
    "Le notebook est organisé en cellules. Par exemple, si vous cliquez une seule fois sur ce texte, vous allez sélectionner \n",
    "sa cellule (elle sera alors dans un cadre, avec du bleu sur le bord gauche). Vous pouvez également sélectionner de la \n",
    "même manière la cellule au-dessus, celle contenant le paragraphe d'introduction et la liste. Remarquez que lorsque vous sélectionnez une cellule de texte, la liste déroulante en haut de l'écran se met sur « Markdown » et indique bien qu'il s'agit de texte.\n",
    "\n",
    "Si vous double-cliquez sur la cellule, vous entrez en mode édition, et vous pouvez en modifier le contenu. Le langage utilisé est Markdown, qui permet d'écrire du code HTML dans une forme très simplifiée.\n",
    "\n",
    "*double-cliquez pour tenter de modifier cette phrase. Ne craignez rien, vous ne pouvez rien casser !*\n",
    "\n",
    "En mode édition, vous remarquerez qu'elle est entre deux caractères étoile ( * ) pour la mettre en italique. # pour faire un titre, ## pour faire un sous titre, etc. Vive le markdown :)\n",
    "\n",
    "Pour sortir du mode édition de la cellule, il suffit d'appuyer sur la combinaison de touches Majuscule + Entrée.\n",
    "\n",
    "Facile, non ?"
   ]
  },
  {
   "cell_type": "markdown",
   "metadata": {},
   "source": [
    "## Exécuter une cellule de code Python"
   ]
  },
  {
   "cell_type": "code",
   "execution_count": 2,
   "metadata": {},
   "outputs": [
    {
     "name": "stdout",
     "output_type": "stream",
     "text": [
      "z = 2\n"
     ]
    }
   ],
   "source": [
    "# Cette cellule contient du code Python, mais heureusement on peut y mettre également des commentaires\n",
    "# sélectionnez la cellule (simple clic) et appuyez sur Majuscule + Entrée pour en exécuter le contenu\n",
    "# vous verrez le résultat s'afficher sous la cellule\n",
    "\n",
    "x = 1\n",
    "y = 2\n",
    "z = x + 2*y - 3\n",
    "\n",
    "print(\"z =\",z)"
   ]
  },
  {
   "cell_type": "markdown",
   "metadata": {},
   "source": [
    "Maintenant, cliquez sur la cellule pour en modifier le contenu, par exemple les valeurs de x ou y. Vous pouvez exécuter la cellule à nouveau. Pratique pour faire des tests !"
   ]
  },
  {
   "cell_type": "markdown",
   "metadata": {},
   "source": [
    "## Utilisation de Jupyter dans le module informatique et algorithmique\n",
    "\n",
    "Tout au long de ce module d'enseignement, je vous proposerai des notebooks sur lesquels travailler. Vous n'avez absolument rien à installer pour ouvrir les notebooks et les modifier. \n",
    "\n",
    "Une fois que vous aurez terminé vos modifications, vous déposerez votre travail sur Moodle dans des espaces de dépôts prévus à cet effet.\n",
    "\n",
    "Pour cela, vous devez d'abord le télécharger sur votre ordinateur en cliquant sur `File > Download as > Notebook (.ipynb)`. Le fichier contenant votre travail se trouvera alors dans le dossier `Téléchargement` sur votre ordinateur. Vous pourrez ensuite le déposer sur Moodle pour que je le regarde et vous fasse des commentaires.\n",
    "\n",
    "<div class=\"alert alert-block alert-danger\">Attention, avant de modifier un notebook, il faudra toujours en faire une copie pour que votre travail ne soit pas écrasé par des mises à jour des fichiers. Les consignes détaillées vous sont données au début de chaque notebook.</div>"
   ]
  },
  {
   "cell_type": "code",
   "execution_count": null,
   "metadata": {},
   "outputs": [],
   "source": []
  }
 ],
 "metadata": {
  "kernelspec": {
   "display_name": "Python 3 (ipykernel)",
   "language": "python",
   "name": "python3"
  },
  "language_info": {
   "codemirror_mode": {
    "name": "ipython",
    "version": 3
   },
   "file_extension": ".py",
   "mimetype": "text/x-python",
   "name": "python",
   "nbconvert_exporter": "python",
   "pygments_lexer": "ipython3",
   "version": "3.10.12"
  }
 },
 "nbformat": 4,
 "nbformat_minor": 4
}
