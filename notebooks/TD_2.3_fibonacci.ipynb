{
 "cells": [
  {
   "cell_type": "markdown",
   "id": "alternative-camel",
   "metadata": {},
   "source": [
    "# Ex. 2.3 : une histoire de lapins transalpins\n",
    "\n",
    "En 1202, un mathématicien italien connu sous le nom de Fibonacci a posé la question suivante : supposons qu'un couple (mâle--femelle) de lapins est né au début de l'année. Nous considérons que les conditions suivantes sont vérifiées :\n",
    "\n",
    "- la maturité sexuelle du lapin est atteinte après un mois, qui est aussi la durée de gestation ;\n",
    "- chaque portée comporte toujours un mâle et une femelle ;\n",
    "- les lapins ne meurent pas.\n",
    "\n",
    "Nous souhaitons connaître le nombre de couples de lapins au bout d'un an. Pour répondre à cette question, nous avons représenté ci-dessous le nombre de couples pour les cinq premiers mois de l'année.\n",
    "\n",
    "<img src=\"images/lapins.png\">\n"
   ]
  },
  {
   "cell_type": "markdown",
   "id": "rational-russell",
   "metadata": {},
   "source": [
    "Écrivez le code Python qui calcule le nombre de couples de lapin au bout du n-ième mois, n étant choisi par l'utilisateur (n>2). Ne cherchez pas à économiser les variables. Assurez-vous que n est bien positif (vous pouvez par exemple utiliser\n",
    "une boucle while). Gérez les cas n=1 et n=2."
   ]
  },
  {
   "cell_type": "code",
   "execution_count": 1,
   "id": "handmade-chapter",
   "metadata": {},
   "outputs": [],
   "source": [
    "# Code python\n",
    "# ...\n",
    "\n"
   ]
  },
  {
   "cell_type": "code",
   "execution_count": null,
   "id": "supreme-building",
   "metadata": {},
   "outputs": [],
   "source": []
  }
 ],
 "metadata": {
  "kernelspec": {
   "display_name": "Python 3 (ipykernel)",
   "language": "python",
   "name": "python3"
  },
  "language_info": {
   "codemirror_mode": {
    "name": "ipython",
    "version": 3
   },
   "file_extension": ".py",
   "mimetype": "text/x-python",
   "name": "python",
   "nbconvert_exporter": "python",
   "pygments_lexer": "ipython3",
   "version": "3.10.12"
  }
 },
 "nbformat": 4,
 "nbformat_minor": 5
}
