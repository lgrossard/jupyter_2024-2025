{
 "cells": [
  {
   "cell_type": "markdown",
   "metadata": {},
   "source": [
    "# Méthode de tri par sélection\n",
    "\n",
    "L'objectif est de trier la liste `data` en utilisant la méthode de tri par sélection, qui n'est pas la plus rapide, mais qui est très simple à mettre en œuvre."
   ]
  },
  {
   "cell_type": "markdown",
   "metadata": {},
   "source": [
    "## définition des variables"
   ]
  },
  {
   "cell_type": "code",
   "execution_count": null,
   "metadata": {},
   "outputs": [],
   "source": [
    "# variables\n",
    "# data, liste de nombres entiers\n",
    "# N, nombre entier : nombre d'éléments dans la liste data\n",
    "# i, nombre entier : compteur\n",
    "# start, nombre entier : indice pour le début de la recherche du min\n",
    "# min, nombre entier : la plus petite valeur de la sous-liste\n",
    "# indice_min, nombre entier : indice du minimum\n",
    "# tmp, nombre entier : variable temporaire pour la permutation\n"
   ]
  },
  {
   "cell_type": "markdown",
   "metadata": {},
   "source": [
    "## initialisation des variables"
   ]
  },
  {
   "cell_type": "code",
   "execution_count": null,
   "metadata": {},
   "outputs": [],
   "source": [
    "# nombre d'éléments dans la liste data\n",
    "N = ????\n",
    "\n",
    "# création d'une liste vide\n",
    "data = ????"
   ]
  },
  {
   "cell_type": "markdown",
   "metadata": {},
   "source": [
    "## remplissage de la liste avec des nombres aléatoires entre 0 et 99\n",
    "\n",
    "on importe la fonction randint qui permet de tirer au sort des nombres entier"
   ]
  },
  {
   "cell_type": "code",
   "execution_count": null,
   "metadata": {},
   "outputs": [],
   "source": [
    "from random import randint"
   ]
  },
  {
   "cell_type": "markdown",
   "metadata": {},
   "source": [
    "exécutez cette cellule pour faire apparaître la documentation de la fonction en bas de la page"
   ]
  },
  {
   "cell_type": "code",
   "execution_count": null,
   "metadata": {},
   "outputs": [],
   "source": [
    "?randint"
   ]
  },
  {
   "cell_type": "markdown",
   "metadata": {},
   "source": [
    "et on fait N tirages aléatoires pour remplir la liste avec des nombres compris allant de 0 (inclus) à 99 (inclus)"
   ]
  },
  {
   "cell_type": "code",
   "execution_count": null,
   "metadata": {},
   "outputs": [],
   "source": [
    "for i in range(????):\n",
    "    data.append(randint(????,????))"
   ]
  },
  {
   "cell_type": "markdown",
   "metadata": {},
   "source": [
    "## affichage de la liste non triée\n",
    "\n",
    "end = \" \" permet d'afficher un espace entre chaque valeur plutôt que de revenir à la ligne"
   ]
  },
  {
   "cell_type": "code",
   "execution_count": null,
   "metadata": {},
   "outputs": [],
   "source": [
    "for nombre in data:\n",
    "    print(????, end=\" \")"
   ]
  },
  {
   "cell_type": "markdown",
   "metadata": {},
   "source": [
    "## tri de la liste"
   ]
  },
  {
   "cell_type": "code",
   "execution_count": null,
   "metadata": {},
   "outputs": [],
   "source": [
    "for ???? in range( ???? ):\n",
    "\n",
    "    # initialisation de l'indice du minimum\n",
    "    indice_min = ????\n",
    "    \n",
    "    # recherche du min de la sous-liste\n",
    "    for ???? in range( ????, ???? ):\n",
    "        if data[ ???? ] < data[ ???? ]:\n",
    "            indice_min = ????\n",
    "            \n",
    "    # on a trouvé la position du minimum dans la liste\n",
    "    # si la valeur en start est inférieure à celle en indice_min\n",
    "    # alors on permute\n",
    "    if ????:\n",
    "        tmp = ????\n",
    "        data[ indice_min ] = ????\n",
    "        data[ start ] = ????"
   ]
  },
  {
   "cell_type": "markdown",
   "metadata": {},
   "source": [
    "## affichage de la liste triée"
   ]
  },
  {
   "cell_type": "code",
   "execution_count": null,
   "metadata": {},
   "outputs": [],
   "source": [
    "for nombre in data:\n",
    "    print(????, end=\" \")"
   ]
  }
 ],
 "metadata": {
  "kernelspec": {
   "display_name": "Python 3",
   "language": "python",
   "name": "python3"
  },
  "language_info": {
   "codemirror_mode": {
    "name": "ipython",
    "version": 3
   },
   "file_extension": ".py",
   "mimetype": "text/x-python",
   "name": "python",
   "nbconvert_exporter": "python",
   "pygments_lexer": "ipython3",
   "version": "3.9.5"
  }
 },
 "nbformat": 4,
 "nbformat_minor": 2
}
