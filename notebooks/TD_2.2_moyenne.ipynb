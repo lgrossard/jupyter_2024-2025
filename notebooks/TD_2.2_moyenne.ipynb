{
 "cells": [
  {
   "cell_type": "markdown",
   "id": "global-strap",
   "metadata": {},
   "source": [
    "# Ex 2.2 : moyenne d'une série de notes"
   ]
  },
  {
   "cell_type": "markdown",
   "id": "psychological-target",
   "metadata": {},
   "source": [
    "L'objectif est de calculer la moyenne d'une série de notes (entre 0 et 20) saisie par l'utilisateur, puis d'en afficher le résultat. L'utilisateur saisira les notes les unes après les autres, et terminera par la valeur particulière -1 pour signifier que la saisie est terminée."
   ]
  },
  {
   "cell_type": "markdown",
   "id": "earlier-donna",
   "metadata": {},
   "source": [
    "Faites le bilan des variables nécessaires dans le programme et leur type"
   ]
  },
  {
   "cell_type": "code",
   "execution_count": 1,
   "id": "lesbian-visit",
   "metadata": {},
   "outputs": [],
   "source": [
    "# variables\n",
    "# ...\n"
   ]
  },
  {
   "cell_type": "markdown",
   "id": "standing-firmware",
   "metadata": {},
   "source": [
    "Écrivez le code Python permettant de calculer la moyenne des valeurs saisies"
   ]
  },
  {
   "cell_type": "code",
   "execution_count": 2,
   "id": "fitted-reconstruction",
   "metadata": {},
   "outputs": [],
   "source": [
    "# Code Python\n",
    "# ...\n",
    "\n"
   ]
  }
 ],
 "metadata": {
  "kernelspec": {
   "display_name": "Python 3",
   "language": "python",
   "name": "python3"
  },
  "language_info": {
   "codemirror_mode": {
    "name": "ipython",
    "version": 3
   },
   "file_extension": ".py",
   "mimetype": "text/x-python",
   "name": "python",
   "nbconvert_exporter": "python",
   "pygments_lexer": "ipython3",
   "version": "3.9.5"
  }
 },
 "nbformat": 4,
 "nbformat_minor": 5
}
