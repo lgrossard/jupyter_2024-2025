{
 "cells": [
  {
   "cell_type": "markdown",
   "id": "global-strap",
   "metadata": {},
   "source": [
    "# Ex 2.2 : moyenne d'une série de notes"
   ]
  },
  {
   "cell_type": "markdown",
   "id": "psychological-target",
   "metadata": {},
   "source": [
    "L'objectif est de calculer la moyenne d'une série de notes (entre 0 et 20) saisie par l'utilisateur, puis d'en afficher le résultat. L'utilisateur saisira les notes les unes après les autres, et terminera par la valeur particulière -1 pour signifier que la saisie est terminée."
   ]
  },
  {
   "cell_type": "markdown",
   "id": "earlier-donna",
   "metadata": {},
   "source": [
    "Faites le bilan des variables nécessaires dans le programme et leur type"
   ]
  },
  {
   "cell_type": "code",
   "execution_count": 1,
   "id": "lesbian-visit",
   "metadata": {},
   "outputs": [],
   "source": [
    "# variables\n",
    "# note : réel, une note saisie\n",
    "# nb_notes : entier, nombre total de notes\n",
    "# moyenne : réel, la moyenne des notes\n",
    "# somme : réel, la somme des notes saisies\n"
   ]
  },
  {
   "cell_type": "markdown",
   "id": "standing-firmware",
   "metadata": {},
   "source": [
    "Écrivez le code Python permettant de calculer la moyenne des valeurs saisies"
   ]
  },
  {
   "cell_type": "code",
   "execution_count": 2,
   "id": "fitted-reconstruction",
   "metadata": {},
   "outputs": [],
   "source": [
    "# initialisation des variables\n",
    "nb_notes = 0\n",
    "somme = 0\n",
    "\n",
    "# saisie de la première note\n",
    "print(\"Saisissez les notes, terminez la saisie par -1\")\n",
    "note = float(input(\"Note : \"))\n",
    "\n",
    "# boucle de saisie des notes suivantes\n",
    "# si la note vaut -1, on va directement à la fin du code\n",
    "# et on affiche un texte explicatif\n",
    "while note != -1:\n",
    "    \n",
    "    # mise à jour du nombre de notes et de la somme\n",
    "    nb_notes = nb_notes + 1\n",
    "    somme = somme + note\n",
    "    \n",
    "    # on demande à l'utilisateur de saisir une note\n",
    "    note = float(input(\"Note : \"))\n",
    "\n",
    "# on vérifie que le nombre de notes est non nul\n",
    "if nb_notes != 0:\n",
    "    moyenne = somme / nb_notes\n",
    "    print(\"Moyenne :\", moyenne) \n",
    "else:\n",
    "    print(\"Pas de note saisie\")\n",
    "\n"
   ]
  }
 ],
 "metadata": {
  "kernelspec": {
   "display_name": "Python 3 (ipykernel)",
   "language": "python",
   "name": "python3"
  },
  "language_info": {
   "codemirror_mode": {
    "name": "ipython",
    "version": 3
   },
   "file_extension": ".py",
   "mimetype": "text/x-python",
   "name": "python",
   "nbconvert_exporter": "python",
   "pygments_lexer": "ipython3",
   "version": "3.12.3"
  }
 },
 "nbformat": 4,
 "nbformat_minor": 5
}
