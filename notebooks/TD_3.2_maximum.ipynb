{
 "cells": [
  {
   "cell_type": "markdown",
   "id": "stunning-tolerance",
   "metadata": {},
   "source": [
    "# Ex 3.2 : recherche du maximum dans une liste\n",
    "\n",
    "Écrivez le code Python permettant de déterminer la valeur maximale d'une liste de nombres réels, ainsi que l'indice de ce maximum. La liste sera initialisée directement dans le code. On affichera ensuite l'indice et la valeur du maximum."
   ]
  },
  {
   "cell_type": "code",
   "execution_count": 1,
   "id": "according-memphis",
   "metadata": {},
   "outputs": [],
   "source": [
    "# notes : liste de réels, liste de notes\n",
    "# note_maximale : réel, valeur la plus grande de la liste notes\n",
    "# indice_note_max : entier, position de la note max dans la liste\n",
    "# i : entier, compteur\n",
    "\n",
    "# initialisation de la liste de notes\n",
    "notes = [17.5, 2, 3, 18.5, 10.5, 18.5]\n",
    "\n",
    "note_maximale = notes[0]\n",
    "indice_note_max = 0\n",
    "# indices_max = []\n",
    "\n",
    "i = 1\n",
    "while i < len(notes):\n",
    "    if note_maximale <= notes[i]:\n",
    "        note_maximale = notes[i]\n",
    "        indice_note_max = i\n",
    "    i = i + 1\n",
    "\n",
    "# i = 0\n",
    "# while i < len(notes):\n",
    "#     if notes[i] == note_maximale:\n",
    "#         indices_max.append(i)\n",
    "#     i = i + 1\n",
    "        \n",
    "print(f\"maximum : {note_maximale} à la position {indice_note_max}\")\n",
    "# print(indices_max)"
   ]
  },
  {
   "cell_type": "markdown",
   "id": "swedish-induction",
   "metadata": {},
   "source": [
    "## Fonction de recherche du maximum dans une liste\n",
    "\n",
    "Écrivez le code Python de la fonction `max`, dont le rôle est de déterminer la valeur maximale d'une liste de nombres réels, ainsi que l'indice de ce maximum. La liste sera passée en paramètre de la fonction. La fonction renverra une liste de deux éléments, contenant le maximum et son indice."
   ]
  },
  {
   "cell_type": "code",
   "execution_count": 1,
   "id": "monetary-billy",
   "metadata": {},
   "outputs": [],
   "source": [
    "# définition de la fonction max\n",
    "def max(liste):\n",
    "    # initialisation des variables\n",
    "    note_maximale = liste[0]\n",
    "    indice_note_max = 0\n",
    "    \n",
    "    # recherche du max et de sa position\n",
    "    i = 1\n",
    "    while i < len(liste):\n",
    "        if note_maximale <= liste[i]:\n",
    "            note_maximale = liste[i]\n",
    "            indice_note_max = i\n",
    "        i = i + 1\n",
    "    \n",
    "    resultat = [note_maximale, indice_note_max]\n",
    "    # autre possibilité pour initialiser la liste resultat\n",
    "    # resultat = []\n",
    "    # resultat.append(note_maximale)\n",
    "    # resultat.append(indice_note_max)\n",
    "    \n",
    "    return resultat \n",
    "\n",
    "# -------------------\n",
    "# Programme principal\n",
    "# -------------------\n",
    "\n",
    "# initialisation de la liste de notes\n",
    "notes = [17.5, 2, 3, 18.5, 10.5, 18.5]\n",
    "\n",
    "r = max(notes)\n",
    "print(f\"maximum : {r[0]} à la position : {r[1]}\")"
   ]
  },
  {
   "cell_type": "code",
   "execution_count": null,
   "id": "unlikely-constant",
   "metadata": {},
   "outputs": [],
   "source": []
  }
 ],
 "metadata": {
  "kernelspec": {
   "display_name": "Python 3 (ipykernel)",
   "language": "python",
   "name": "python3"
  },
  "language_info": {
   "codemirror_mode": {
    "name": "ipython",
    "version": 3
   },
   "file_extension": ".py",
   "mimetype": "text/x-python",
   "name": "python",
   "nbconvert_exporter": "python",
   "pygments_lexer": "ipython3",
   "version": "3.12.3"
  }
 },
 "nbformat": 4,
 "nbformat_minor": 5
}
