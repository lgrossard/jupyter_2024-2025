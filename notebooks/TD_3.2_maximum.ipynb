{
 "cells": [
  {
   "cell_type": "markdown",
   "id": "stunning-tolerance",
   "metadata": {},
   "source": [
    "# Ex 3.2 : recherche du maximum dans une liste\n",
    "\n",
    "Écrivez le code Python permettant de déterminer la valeur maximale d'une liste de nombres réels, ainsi que l'indice de ce maximum. La liste sera initialisée directement dans le code. On affichera ensuite l'indice et la valeur du maximum."
   ]
  },
  {
   "cell_type": "code",
   "execution_count": 1,
   "id": "according-memphis",
   "metadata": {},
   "outputs": [],
   "source": [
    "# Code Python\n",
    "# ..."
   ]
  },
  {
   "cell_type": "markdown",
   "id": "swedish-induction",
   "metadata": {},
   "source": [
    "## Fonction de recherche du maximum dans une liste\n",
    "\n",
    "Écrivez le code Python de la fonction `max`, dont le rôle est de déterminer la valeur maximale d'une liste de nombres réels, ainsi que l'indice de ce maximum. La liste sera passée en paramètre de la fonction. La fonction renverra une liste de deux éléments, contenant le maximum et son indice."
   ]
  },
  {
   "cell_type": "code",
   "execution_count": 1,
   "id": "monetary-billy",
   "metadata": {},
   "outputs": [],
   "source": [
    "# Code Python\n",
    "# ..."
   ]
  },
  {
   "cell_type": "code",
   "execution_count": null,
   "id": "unlikely-constant",
   "metadata": {},
   "outputs": [],
   "source": []
  }
 ],
 "metadata": {
  "kernelspec": {
   "display_name": "Python 3",
   "language": "python",
   "name": "python3"
  },
  "language_info": {
   "codemirror_mode": {
    "name": "ipython",
    "version": 3
   },
   "file_extension": ".py",
   "mimetype": "text/x-python",
   "name": "python",
   "nbconvert_exporter": "python",
   "pygments_lexer": "ipython3",
   "version": "3.9.5"
  }
 },
 "nbformat": 4,
 "nbformat_minor": 5
}
