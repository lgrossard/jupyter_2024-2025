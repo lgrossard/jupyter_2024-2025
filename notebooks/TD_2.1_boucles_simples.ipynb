{
 "cells": [
  {
   "cell_type": "markdown",
   "id": "middle-estate",
   "metadata": {},
   "source": [
    "# Ex 2.1 : boucles simples\n",
    "\n",
    "Écrivez les codes Python permettant d'afficher à l'écran les suites numériques suivantes :"
   ]
  },
  {
   "cell_type": "markdown",
   "id": "daily-mistress",
   "metadata": {},
   "source": [
    "## 1 3 5 7 9 11 13"
   ]
  },
  {
   "cell_type": "code",
   "execution_count": 9,
   "id": "wanted-mother",
   "metadata": {},
   "outputs": [
    {
     "name": "stdout",
     "output_type": "stream",
     "text": [
      "1 3 5 7 9 11 13 "
     ]
    }
   ],
   "source": [
    "i = -1\n",
    "while i < 13:\n",
    "    i = i + 2\n",
    "    print(i, end = \" \")\n"
   ]
  },
  {
   "cell_type": "code",
   "execution_count": 12,
   "id": "e2835b3d",
   "metadata": {},
   "outputs": [
    {
     "name": "stdout",
     "output_type": "stream",
     "text": [
      "1 3 5 7 9 11 13 "
     ]
    }
   ],
   "source": [
    "i = 1\n",
    "while i <= 13:\n",
    "    print(i, end = \" \")\n",
    "    i = i + 2"
   ]
  },
  {
   "cell_type": "markdown",
   "id": "vocal-computer",
   "metadata": {},
   "source": [
    "## 31 26 21 16 11 6 1"
   ]
  },
  {
   "cell_type": "code",
   "execution_count": 16,
   "id": "employed-netherlands",
   "metadata": {},
   "outputs": [
    {
     "name": "stdout",
     "output_type": "stream",
     "text": [
      "31 26 21 16 11 6 1 "
     ]
    }
   ],
   "source": [
    "i = 31\n",
    "while i > 0:\n",
    "    print(i, end = \" \")\n",
    "    # i = i - 5\n",
    "    i -= 5"
   ]
  },
  {
   "cell_type": "markdown",
   "id": "funded-banks",
   "metadata": {},
   "source": [
    "## 3 5 9 17 33 65 129"
   ]
  },
  {
   "cell_type": "code",
   "execution_count": 17,
   "id": "higher-fashion",
   "metadata": {},
   "outputs": [
    {
     "name": "stdout",
     "output_type": "stream",
     "text": [
      "3 5 9 17 33 65 129 "
     ]
    }
   ],
   "source": [
    "i = 3\n",
    "while i <= 129:\n",
    "    print(i, end = \" \")\n",
    "    i = (i * 2 ) -1\n"
   ]
  },
  {
   "cell_type": "code",
   "execution_count": 25,
   "id": "38e91a04",
   "metadata": {},
   "outputs": [
    {
     "name": "stdout",
     "output_type": "stream",
     "text": [
      "3 5 9 17 33 65 129 "
     ]
    }
   ],
   "source": [
    "for i in range(1,8):\n",
    "    print(2**i + 1, end = \" \")"
   ]
  },
  {
   "cell_type": "code",
   "execution_count": 26,
   "id": "6d5d9b69",
   "metadata": {},
   "outputs": [
    {
     "name": "stdout",
     "output_type": "stream",
     "text": [
      "3 5 9 17 33 65 129 "
     ]
    }
   ],
   "source": [
    "for i in range(7):\n",
    "    print(2**(i+1) + 1, end = \" \")"
   ]
  },
  {
   "cell_type": "markdown",
   "id": "settled-warehouse",
   "metadata": {},
   "source": [
    "## 1 4 2 0 3 1 4 2 0 3 1 4 2 0 3 1 4"
   ]
  },
  {
   "cell_type": "code",
   "execution_count": 34,
   "id": "medical-training",
   "metadata": {},
   "outputs": [
    {
     "name": "stdout",
     "output_type": "stream",
     "text": [
      "1 4 2 0 3 1 4 2 0 3 1 4 2 0 3 1 4 "
     ]
    }
   ],
   "source": [
    "# ça se répète (cyclique)\n",
    "# les valeurs se situent entre 0 et 4\n",
    "# incrémentation (parfois) de +3 (et parfois de -2)\n",
    "# proposition qui fonctionne, mais pas très simple\n",
    "j = 1\n",
    "for i in range(1,18):\n",
    "    print(j, end = \" \")\n",
    "    if j <= 1:\n",
    "        j = j + 3\n",
    "    elif j >= 2:\n",
    "        j = j - 2\n",
    "        "
   ]
  },
  {
   "cell_type": "code",
   "execution_count": 44,
   "id": "integral-channel",
   "metadata": {},
   "outputs": [
    {
     "name": "stdout",
     "output_type": "stream",
     "text": [
      "1 4 2 0 3 1 4 2 0 3 1 4 2 0 3 1 4 "
     ]
    }
   ],
   "source": [
    "# ça se répète (cyclique)\n",
    "# les valeurs se situent entre 0 et 4\n",
    "# incrémentation (parfois) de +3 (et parfois de -2)\n",
    "# -> utilisation de l'opérateur modulo (%)\n",
    "\n",
    "i = 1\n",
    "while i <= 17*3:\n",
    "    print(i % 5, end = \" \")\n",
    "    i = i + 3\n"
   ]
  },
  {
   "cell_type": "code",
   "execution_count": null,
   "id": "284475d3",
   "metadata": {},
   "outputs": [],
   "source": []
  }
 ],
 "metadata": {
  "kernelspec": {
   "display_name": "Python 3",
   "language": "python",
   "name": "python3"
  },
  "language_info": {
   "codemirror_mode": {
    "name": "ipython",
    "version": 3
   },
   "file_extension": ".py",
   "mimetype": "text/x-python",
   "name": "python",
   "nbconvert_exporter": "python",
   "pygments_lexer": "ipython3",
   "version": "3.9.5"
  }
 },
 "nbformat": 4,
 "nbformat_minor": 5
}
