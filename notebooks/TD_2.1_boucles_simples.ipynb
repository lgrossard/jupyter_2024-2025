{
 "cells": [
  {
   "cell_type": "markdown",
   "id": "middle-estate",
   "metadata": {},
   "source": [
    "# Ex 2.1 : boucles simples\n",
    "\n",
    "Écrivez les codes Python permettant d'afficher à l'écran les suites numériques suivantes :"
   ]
  },
  {
   "cell_type": "markdown",
   "id": "daily-mistress",
   "metadata": {},
   "source": [
    "## 1 3 5 7 9 11 13"
   ]
  },
  {
   "cell_type": "code",
   "execution_count": null,
   "id": "wanted-mother",
   "metadata": {},
   "outputs": [],
   "source": [
    "# Code python :\n",
    "\n"
   ]
  },
  {
   "cell_type": "markdown",
   "id": "vocal-computer",
   "metadata": {},
   "source": [
    "## 31 26 21 16 11 6 1"
   ]
  },
  {
   "cell_type": "code",
   "execution_count": 1,
   "id": "employed-netherlands",
   "metadata": {},
   "outputs": [],
   "source": [
    "# Code python :\n",
    "\n"
   ]
  },
  {
   "cell_type": "markdown",
   "id": "funded-banks",
   "metadata": {},
   "source": [
    "## 3 5 9 17 33 65 129"
   ]
  },
  {
   "cell_type": "code",
   "execution_count": 2,
   "id": "higher-fashion",
   "metadata": {},
   "outputs": [],
   "source": [
    "# Code python :\n",
    "\n"
   ]
  },
  {
   "cell_type": "markdown",
   "id": "settled-warehouse",
   "metadata": {},
   "source": [
    "## 1 4 2 0 3 1 4 2 0 3 1 4 2 0 3 1 4"
   ]
  },
  {
   "cell_type": "code",
   "execution_count": 3,
   "id": "medical-training",
   "metadata": {},
   "outputs": [],
   "source": [
    "# Code python :\n",
    "\n"
   ]
  },
  {
   "cell_type": "code",
   "execution_count": null,
   "id": "integral-channel",
   "metadata": {},
   "outputs": [],
   "source": []
  }
 ],
 "metadata": {
  "kernelspec": {
   "display_name": "Python 3",
   "language": "python",
   "name": "python3"
  },
  "language_info": {
   "codemirror_mode": {
    "name": "ipython",
    "version": 3
   },
   "file_extension": ".py",
   "mimetype": "text/x-python",
   "name": "python",
   "nbconvert_exporter": "python",
   "pygments_lexer": "ipython3",
   "version": "3.9.5"
  }
 },
 "nbformat": 4,
 "nbformat_minor": 5
}
